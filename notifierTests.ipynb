{
 "cells": [
  {
   "cell_type": "markdown",
   "metadata": {},
   "source": [
    "# TESTS TO CHECK NOTIFICATION SERVICE"
   ]
  },
  {
   "cell_type": "code",
   "execution_count": 1,
   "metadata": {},
   "outputs": [],
   "source": [
    "from myapp.notifierService import NotifierService\n",
    "\n",
    "notifierService = NotifierService()"
   ]
  },
  {
   "cell_type": "code",
   "execution_count": 10,
   "metadata": {
    "scrolled": true
   },
   "outputs": [
    {
     "data": {
      "text/plain": [
       "[{'name': 'GR Medical College MC (2)',\n",
       "  'address': 'Gajra Raja Medical College Yadav Colony Lashkar',\n",
       "  'state_name': 'Madhya Pradesh',\n",
       "  'district_name': 'Gwalior',\n",
       "  'block_name': 'MORAR',\n",
       "  'pincode': 474002,\n",
       "  'fee_type': 'Free',\n",
       "  'sessions': [{'date': '25-05-2021',\n",
       "    'available_capacity': 10,\n",
       "    'min_age_limit': 45,\n",
       "    'vaccine': 'COVISHIELD',\n",
       "    'available_capacity_dose1': 0,\n",
       "    'available_capacity_dose2': 10}]},\n",
       " {'name': 'Morar District Hospital',\n",
       "  'address': 'Morar District Hospital',\n",
       "  'state_name': 'Madhya Pradesh',\n",
       "  'district_name': 'Gwalior',\n",
       "  'block_name': 'MORAR',\n",
       "  'pincode': 474006,\n",
       "  'fee_type': 'Free',\n",
       "  'sessions': [{'date': '25-05-2021',\n",
       "    'available_capacity': 9,\n",
       "    'min_age_limit': 45,\n",
       "    'vaccine': 'COVISHIELD',\n",
       "    'available_capacity_dose1': 0,\n",
       "    'available_capacity_dose2': 10}]}]"
      ]
     },
     "execution_count": 10,
     "metadata": {},
     "output_type": "execute_result"
    }
   ],
   "source": [
    "# Happy Scenario: Region\n",
    "\n",
    "state = \"Madhya Pradesh\"\n",
    "district = \"Gwalior\"\n",
    "pincode = 0\n",
    "age = 45\n",
    "inputDate = \"25-05-2021\"\n",
    "vaccineType = \"COVISHIELD\"\n",
    "dose = 2\n",
    "\n",
    "notifierService.execute(state, district, pincode, age, inputDate, vaccineType, dose)\n",
    "# PASS"
   ]
  },
  {
   "cell_type": "code",
   "execution_count": 4,
   "metadata": {},
   "outputs": [
    {
     "data": {
      "text/plain": [
       "[{'name': 'GR Medical College MC (2)',\n",
       "  'address': 'Gajra Raja Medical College Yadav Colony Lashkar',\n",
       "  'state_name': 'Madhya Pradesh',\n",
       "  'district_name': 'Gwalior',\n",
       "  'block_name': 'MORAR',\n",
       "  'pincode': 474002,\n",
       "  'fee_type': 'Free',\n",
       "  'sessions': [{'date': '25-05-2021',\n",
       "    'available_capacity': 10,\n",
       "    'min_age_limit': 45,\n",
       "    'vaccine': 'COVISHIELD',\n",
       "    'available_capacity_dose1': 0,\n",
       "    'available_capacity_dose2': 10}]},\n",
       " {'name': 'Morar District Hospital',\n",
       "  'address': 'Morar District Hospital',\n",
       "  'state_name': 'Madhya Pradesh',\n",
       "  'district_name': 'Gwalior',\n",
       "  'block_name': 'MORAR',\n",
       "  'pincode': 474006,\n",
       "  'fee_type': 'Free',\n",
       "  'sessions': [{'date': '25-05-2021',\n",
       "    'available_capacity': 9,\n",
       "    'min_age_limit': 45,\n",
       "    'vaccine': 'COVISHIELD',\n",
       "    'available_capacity_dose1': 0,\n",
       "    'available_capacity_dose2': 10}]}]"
      ]
     },
     "execution_count": 4,
     "metadata": {},
     "output_type": "execute_result"
    }
   ],
   "source": [
    "# Happy Scenario: Region - No Age\n",
    "\n",
    "state = \"Madhya Pradesh\"\n",
    "district = \"Gwalior\"\n",
    "pincode = 0\n",
    "age = 0\n",
    "inputDate = \"25-05-2021\"\n",
    "vaccineType = \"COVISHIELD\"\n",
    "dose = 2\n",
    "\n",
    "notifierService.execute(state, district, pincode, age, inputDate, vaccineType, dose)\n",
    "# PASS"
   ]
  },
  {
   "cell_type": "code",
   "execution_count": 5,
   "metadata": {},
   "outputs": [
    {
     "data": {
      "text/plain": [
       "[{'name': 'GR Medical College MC (2)',\n",
       "  'address': 'Gajra Raja Medical College Yadav Colony Lashkar',\n",
       "  'state_name': 'Madhya Pradesh',\n",
       "  'district_name': 'Gwalior',\n",
       "  'block_name': 'MORAR',\n",
       "  'pincode': 474002,\n",
       "  'fee_type': 'Free',\n",
       "  'sessions': [{'date': '25-05-2021',\n",
       "    'available_capacity': 10,\n",
       "    'min_age_limit': 45,\n",
       "    'vaccine': 'COVISHIELD',\n",
       "    'available_capacity_dose1': 0,\n",
       "    'available_capacity_dose2': 10}]},\n",
       " {'name': 'Morar District Hospital',\n",
       "  'address': 'Morar District Hospital',\n",
       "  'state_name': 'Madhya Pradesh',\n",
       "  'district_name': 'Gwalior',\n",
       "  'block_name': 'MORAR',\n",
       "  'pincode': 474006,\n",
       "  'fee_type': 'Free',\n",
       "  'sessions': [{'date': '25-05-2021',\n",
       "    'available_capacity': 9,\n",
       "    'min_age_limit': 45,\n",
       "    'vaccine': 'COVISHIELD',\n",
       "    'available_capacity_dose1': 0,\n",
       "    'available_capacity_dose2': 10}]}]"
      ]
     },
     "execution_count": 5,
     "metadata": {},
     "output_type": "execute_result"
    }
   ],
   "source": [
    "# Happy Scenario: Region - No Age - No Date\n",
    "\n",
    "state = \"Madhya Pradesh\"\n",
    "district = \"Gwalior\"\n",
    "pincode = 0\n",
    "age = 0\n",
    "inputDate = \"\"\n",
    "vaccineType = \"COVISHIELD\"\n",
    "dose = 2\n",
    "\n",
    "notifierService.execute(state, district, pincode, age, inputDate, vaccineType, dose)\n",
    "# PASS"
   ]
  },
  {
   "cell_type": "code",
   "execution_count": 7,
   "metadata": {},
   "outputs": [
    {
     "data": {
      "text/plain": [
       "[{'name': 'GR Medical College MC (2)',\n",
       "  'address': 'Gajra Raja Medical College Yadav Colony Lashkar',\n",
       "  'state_name': 'Madhya Pradesh',\n",
       "  'district_name': 'Gwalior',\n",
       "  'block_name': 'MORAR',\n",
       "  'pincode': 474002,\n",
       "  'fee_type': 'Free',\n",
       "  'sessions': [{'date': '25-05-2021',\n",
       "    'available_capacity': 10,\n",
       "    'min_age_limit': 45,\n",
       "    'vaccine': 'COVISHIELD',\n",
       "    'available_capacity_dose1': 0,\n",
       "    'available_capacity_dose2': 10}]},\n",
       " {'name': 'GR Medical College MC (3)',\n",
       "  'address': 'Veer Savarkar Road Gwalior',\n",
       "  'state_name': 'Madhya Pradesh',\n",
       "  'district_name': 'Gwalior',\n",
       "  'block_name': 'MORAR',\n",
       "  'pincode': 474002,\n",
       "  'fee_type': 'Free',\n",
       "  'sessions': [{'date': '25-05-2021',\n",
       "    'available_capacity': 8,\n",
       "    'min_age_limit': 45,\n",
       "    'vaccine': 'COVAXIN',\n",
       "    'available_capacity_dose1': 0,\n",
       "    'available_capacity_dose2': 8}]},\n",
       " {'name': 'Morar District Hospital',\n",
       "  'address': 'Morar District Hospital',\n",
       "  'state_name': 'Madhya Pradesh',\n",
       "  'district_name': 'Gwalior',\n",
       "  'block_name': 'MORAR',\n",
       "  'pincode': 474006,\n",
       "  'fee_type': 'Free',\n",
       "  'sessions': [{'date': '25-05-2021',\n",
       "    'available_capacity': 9,\n",
       "    'min_age_limit': 45,\n",
       "    'vaccine': 'COVISHIELD',\n",
       "    'available_capacity_dose1': 0,\n",
       "    'available_capacity_dose2': 10}]}]"
      ]
     },
     "execution_count": 7,
     "metadata": {},
     "output_type": "execute_result"
    }
   ],
   "source": [
    "# Happy Scenario: Region - No Age - No Date - No Vaccine Type\n",
    "\n",
    "state = \"Madhya Pradesh\"\n",
    "district = \"Gwalior\"\n",
    "pincode = 0\n",
    "age = 0\n",
    "inputDate = \"\"\n",
    "vaccineType = \"\"\n",
    "dose = 2\n",
    "\n",
    "notifierService.execute(state, district, pincode, age, inputDate, vaccineType, dose)\n",
    "# PASS"
   ]
  },
  {
   "cell_type": "code",
   "execution_count": 8,
   "metadata": {},
   "outputs": [
    {
     "data": {
      "text/plain": [
       "[{'name': 'GR Medical College MC (2)',\n",
       "  'address': 'Gajra Raja Medical College Yadav Colony Lashkar',\n",
       "  'state_name': 'Madhya Pradesh',\n",
       "  'district_name': 'Gwalior',\n",
       "  'block_name': 'MORAR',\n",
       "  'pincode': 474002,\n",
       "  'fee_type': 'Free',\n",
       "  'sessions': [{'date': '25-05-2021',\n",
       "    'available_capacity': 10,\n",
       "    'min_age_limit': 45,\n",
       "    'vaccine': 'COVISHIELD',\n",
       "    'available_capacity_dose1': 0,\n",
       "    'available_capacity_dose2': 10}]},\n",
       " {'name': 'GR Medical College MC (3)',\n",
       "  'address': 'Veer Savarkar Road Gwalior',\n",
       "  'state_name': 'Madhya Pradesh',\n",
       "  'district_name': 'Gwalior',\n",
       "  'block_name': 'MORAR',\n",
       "  'pincode': 474002,\n",
       "  'fee_type': 'Free',\n",
       "  'sessions': [{'date': '25-05-2021',\n",
       "    'available_capacity': 8,\n",
       "    'min_age_limit': 45,\n",
       "    'vaccine': 'COVAXIN',\n",
       "    'available_capacity_dose1': 0,\n",
       "    'available_capacity_dose2': 8}]},\n",
       " {'name': 'Morar District Hospital',\n",
       "  'address': 'Morar District Hospital',\n",
       "  'state_name': 'Madhya Pradesh',\n",
       "  'district_name': 'Gwalior',\n",
       "  'block_name': 'MORAR',\n",
       "  'pincode': 474006,\n",
       "  'fee_type': 'Free',\n",
       "  'sessions': [{'date': '25-05-2021',\n",
       "    'available_capacity': 9,\n",
       "    'min_age_limit': 45,\n",
       "    'vaccine': 'COVISHIELD',\n",
       "    'available_capacity_dose1': 0,\n",
       "    'available_capacity_dose2': 10}]}]"
      ]
     },
     "execution_count": 8,
     "metadata": {},
     "output_type": "execute_result"
    }
   ],
   "source": [
    "# Happy Scenario: Region - No Age - No Date - No Vaccine Type - No Dose\n",
    "\n",
    "state = \"Madhya Pradesh\"\n",
    "district = \"Gwalior\"\n",
    "pincode = 0\n",
    "age = 0\n",
    "inputDate = \"\"\n",
    "vaccineType = \"\"\n",
    "dose = 0\n",
    "\n",
    "notifierService.execute(state, district, pincode, age, inputDate, vaccineType, dose)\n",
    "# PASS"
   ]
  },
  {
   "cell_type": "code",
   "execution_count": 9,
   "metadata": {},
   "outputs": [
    {
     "data": {
      "text/plain": [
       "[]"
      ]
     },
     "execution_count": 9,
     "metadata": {},
     "output_type": "execute_result"
    }
   ],
   "source": [
    "# Happy Scenario: Region - No Age - No Date - No Vaccine Type, Dose = 1\n",
    "\n",
    "state = \"Madhya Pradesh\"\n",
    "district = \"Gwalior\"\n",
    "pincode = 0\n",
    "age = 0\n",
    "inputDate = \"\"\n",
    "vaccineType = \"\"\n",
    "dose = 1 \n",
    "\n",
    "notifierService.execute(state, district, pincode, age, inputDate, vaccineType, dose)\n",
    "# PASS"
   ]
  },
  {
   "cell_type": "code",
   "execution_count": 13,
   "metadata": {},
   "outputs": [
    {
     "data": {
      "text/plain": [
       "[{'name': 'Morar District Hospital',\n",
       "  'address': 'Morar District Hospital',\n",
       "  'state_name': 'Madhya Pradesh',\n",
       "  'district_name': 'Gwalior',\n",
       "  'block_name': 'MORAR',\n",
       "  'pincode': 474006,\n",
       "  'fee_type': 'Free',\n",
       "  'sessions': [{'date': '25-05-2021',\n",
       "    'available_capacity': 9,\n",
       "    'min_age_limit': 45,\n",
       "    'vaccine': 'COVISHIELD',\n",
       "    'available_capacity_dose1': 0,\n",
       "    'available_capacity_dose2': 10}]}]"
      ]
     },
     "execution_count": 13,
     "metadata": {},
     "output_type": "execute_result"
    }
   ],
   "source": [
    "# Happy Scenario: Pin Code \n",
    "\n",
    "state = \"\"\n",
    "district = \"\"\n",
    "pincode = 474006\n",
    "age = 45\n",
    "inputDate = \"25-05-2021\"\n",
    "vaccineType = \"COVISHIELD\"\n",
    "dose = 2\n",
    "\n",
    "notifierService.execute(state, district, pincode, age, inputDate, vaccineType, dose)\n",
    "# PASS"
   ]
  },
  {
   "cell_type": "code",
   "execution_count": 14,
   "metadata": {},
   "outputs": [
    {
     "data": {
      "text/plain": [
       "[{'name': 'Morar District Hospital',\n",
       "  'address': 'Morar District Hospital',\n",
       "  'state_name': 'Madhya Pradesh',\n",
       "  'district_name': 'Gwalior',\n",
       "  'block_name': 'MORAR',\n",
       "  'pincode': 474006,\n",
       "  'fee_type': 'Free',\n",
       "  'sessions': [{'date': '25-05-2021',\n",
       "    'available_capacity': 9,\n",
       "    'min_age_limit': 45,\n",
       "    'vaccine': 'COVISHIELD',\n",
       "    'available_capacity_dose1': 0,\n",
       "    'available_capacity_dose2': 10}]}]"
      ]
     },
     "execution_count": 14,
     "metadata": {},
     "output_type": "execute_result"
    }
   ],
   "source": [
    "# Happy Scenario: Pin Code - No Age\n",
    "\n",
    "state = \"\"\n",
    "district = \"\"\n",
    "pincode = 474006\n",
    "age = 0\n",
    "inputDate = \"25-05-2021\"\n",
    "vaccineType = \"COVISHIELD\"\n",
    "dose = 2\n",
    "\n",
    "notifierService.execute(state, district, pincode, age, inputDate, vaccineType, dose)\n",
    "# PASS"
   ]
  },
  {
   "cell_type": "code",
   "execution_count": 15,
   "metadata": {},
   "outputs": [
    {
     "data": {
      "text/plain": [
       "[{'name': 'Morar District Hospital',\n",
       "  'address': 'Morar District Hospital',\n",
       "  'state_name': 'Madhya Pradesh',\n",
       "  'district_name': 'Gwalior',\n",
       "  'block_name': 'MORAR',\n",
       "  'pincode': 474006,\n",
       "  'fee_type': 'Free',\n",
       "  'sessions': [{'date': '25-05-2021',\n",
       "    'available_capacity': 9,\n",
       "    'min_age_limit': 45,\n",
       "    'vaccine': 'COVISHIELD',\n",
       "    'available_capacity_dose1': 0,\n",
       "    'available_capacity_dose2': 10}]}]"
      ]
     },
     "execution_count": 15,
     "metadata": {},
     "output_type": "execute_result"
    }
   ],
   "source": [
    "# Happy Scenario: Pin Code - No Age - No Date\n",
    "\n",
    "state = \"\"\n",
    "district = \"\"\n",
    "pincode = 474006\n",
    "age = 0\n",
    "inputDate = \"\"\n",
    "vaccineType = \"COVISHIELD\"\n",
    "dose = 2\n",
    "\n",
    "notifierService.execute(state, district, pincode, age, inputDate, vaccineType, dose)\n",
    "# PASS"
   ]
  },
  {
   "cell_type": "code",
   "execution_count": 16,
   "metadata": {},
   "outputs": [
    {
     "data": {
      "text/plain": [
       "[{'name': 'Morar District Hospital',\n",
       "  'address': 'Morar District Hospital',\n",
       "  'state_name': 'Madhya Pradesh',\n",
       "  'district_name': 'Gwalior',\n",
       "  'block_name': 'MORAR',\n",
       "  'pincode': 474006,\n",
       "  'fee_type': 'Free',\n",
       "  'sessions': [{'date': '25-05-2021',\n",
       "    'available_capacity': 9,\n",
       "    'min_age_limit': 45,\n",
       "    'vaccine': 'COVISHIELD',\n",
       "    'available_capacity_dose1': 0,\n",
       "    'available_capacity_dose2': 10}]}]"
      ]
     },
     "execution_count": 16,
     "metadata": {},
     "output_type": "execute_result"
    }
   ],
   "source": [
    "# Happy Scenario: Pin Code - No Age - No Date - No Vaccine Type\n",
    "\n",
    "state = \"\"\n",
    "district = \"\"\n",
    "pincode = 474006\n",
    "age = 0\n",
    "inputDate = \"\"\n",
    "vaccineType = \"\"\n",
    "dose = 2\n",
    "\n",
    "notifierService.execute(state, district, pincode, age, inputDate, vaccineType, dose)\n",
    "# PASS"
   ]
  },
  {
   "cell_type": "code",
   "execution_count": 17,
   "metadata": {},
   "outputs": [
    {
     "data": {
      "text/plain": [
       "[{'name': 'Morar District Hospital',\n",
       "  'address': 'Morar District Hospital',\n",
       "  'state_name': 'Madhya Pradesh',\n",
       "  'district_name': 'Gwalior',\n",
       "  'block_name': 'MORAR',\n",
       "  'pincode': 474006,\n",
       "  'fee_type': 'Free',\n",
       "  'sessions': [{'date': '25-05-2021',\n",
       "    'available_capacity': 9,\n",
       "    'min_age_limit': 45,\n",
       "    'vaccine': 'COVISHIELD',\n",
       "    'available_capacity_dose1': 0,\n",
       "    'available_capacity_dose2': 10}]}]"
      ]
     },
     "execution_count": 17,
     "metadata": {},
     "output_type": "execute_result"
    }
   ],
   "source": [
    "# Happy Scenario: Pin Code - No Age - No Date - No Vaccine Type - No Dose\n",
    "\n",
    "state = \"\"\n",
    "district = \"\"\n",
    "pincode = 474006\n",
    "age = 0\n",
    "inputDate = \"\"\n",
    "vaccineType = \"\"\n",
    "dose = 0\n",
    "\n",
    "notifierService.execute(state, district, pincode, age, inputDate, vaccineType, dose)\n",
    "# PASS"
   ]
  },
  {
   "cell_type": "code",
   "execution_count": 18,
   "metadata": {},
   "outputs": [
    {
     "data": {
      "text/plain": [
       "[]"
      ]
     },
     "execution_count": 18,
     "metadata": {},
     "output_type": "execute_result"
    }
   ],
   "source": [
    "# Happy Scenario: Pin Code - No Age - No Date - No Vaccine Type, Dose = 1\n",
    "\n",
    "state = \"\"\n",
    "district = \"\"\n",
    "pincode = 474006\n",
    "age = 0\n",
    "inputDate = \"\"\n",
    "vaccineType = \"\"\n",
    "dose = 1\n",
    "\n",
    "notifierService.execute(state, district, pincode, age, inputDate, vaccineType, dose)\n",
    "# PASS"
   ]
  },
  {
   "cell_type": "code",
   "execution_count": null,
   "metadata": {},
   "outputs": [],
   "source": []
  }
 ],
 "metadata": {
  "kernelspec": {
   "display_name": "Python 3",
   "language": "python",
   "name": "python3"
  },
  "language_info": {
   "codemirror_mode": {
    "name": "ipython",
    "version": 3
   },
   "file_extension": ".py",
   "mimetype": "text/x-python",
   "name": "python",
   "nbconvert_exporter": "python",
   "pygments_lexer": "ipython3",
   "version": "3.9.2"
  }
 },
 "nbformat": 4,
 "nbformat_minor": 4
}
