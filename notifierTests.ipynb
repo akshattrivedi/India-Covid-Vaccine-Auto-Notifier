{
 "cells": [
  {
   "cell_type": "markdown",
   "metadata": {},
   "source": [
    "# TESTS TO CHECK NOTIFICATION SERVICE"
   ]
  },
  {
   "cell_type": "code",
   "execution_count": 4,
   "metadata": {},
   "outputs": [],
   "source": [
    "from myapp.notifierService import NotifierService\n",
    "\n",
    "notifierService = NotifierService()"
   ]
  },
  {
   "cell_type": "code",
   "execution_count": 12,
   "metadata": {
    "scrolled": true
   },
   "outputs": [
    {
     "data": {
      "text/plain": [
       "14"
      ]
     },
     "execution_count": 12,
     "metadata": {},
     "output_type": "execute_result"
    }
   ],
   "source": [
    "# Happy Scenario: Region\n",
    "\n",
    "state = \"Madhya Pradesh\"\n",
    "district = \"Gwalior\"\n",
    "pincode = 0\n",
    "age = 45\n",
    "inputDate = \"2021-05-27\"\n",
    "vaccineType = \"COVISHIELD\"\n",
    "dose = 2\n",
    "\n",
    "len(notifierService.findSlots(state, district, pincode, age, inputDate, vaccineType, dose))\n",
    "# PASS"
   ]
  },
  {
   "cell_type": "code",
   "execution_count": 13,
   "metadata": {},
   "outputs": [
    {
     "data": {
      "text/plain": [
       "15"
      ]
     },
     "execution_count": 13,
     "metadata": {},
     "output_type": "execute_result"
    }
   ],
   "source": [
    "# Happy Scenario: Region - No Age\n",
    "\n",
    "state = \"Madhya Pradesh\"\n",
    "district = \"Gwalior\"\n",
    "pincode = 0\n",
    "age = 0\n",
    "inputDate = \"2021-05-27\"\n",
    "vaccineType = \"COVISHIELD\"\n",
    "dose = 2\n",
    "\n",
    "len(notifierService.findSlots(state, district, pincode, age, inputDate, vaccineType, dose))\n",
    "# PASS"
   ]
  },
  {
   "cell_type": "code",
   "execution_count": 14,
   "metadata": {},
   "outputs": [
    {
     "data": {
      "text/plain": [
       "15"
      ]
     },
     "execution_count": 14,
     "metadata": {},
     "output_type": "execute_result"
    }
   ],
   "source": [
    "# Happy Scenario: Region - No Age - No Date\n",
    "\n",
    "state = \"Madhya Pradesh\"\n",
    "district = \"Gwalior\"\n",
    "pincode = 0\n",
    "age = 0\n",
    "inputDate = \"\"\n",
    "vaccineType = \"COVISHIELD\"\n",
    "dose = 2\n",
    "\n",
    "len(notifierService.findSlots(state, district, pincode, age, inputDate, vaccineType, dose))\n",
    "# PASS"
   ]
  },
  {
   "cell_type": "code",
   "execution_count": 15,
   "metadata": {},
   "outputs": [
    {
     "data": {
      "text/plain": [
       "15"
      ]
     },
     "execution_count": 15,
     "metadata": {},
     "output_type": "execute_result"
    }
   ],
   "source": [
    "# Happy Scenario: Region - No Age - No Date - No Vaccine Type\n",
    "\n",
    "state = \"Madhya Pradesh\"\n",
    "district = \"Gwalior\"\n",
    "pincode = 0\n",
    "age = 0\n",
    "inputDate = \"\"\n",
    "vaccineType = \"\"\n",
    "dose = 2\n",
    "\n",
    "len(notifierService.findSlots(state, district, pincode, age, inputDate, vaccineType, dose))\n",
    "# PASS"
   ]
  },
  {
   "cell_type": "code",
   "execution_count": 16,
   "metadata": {},
   "outputs": [
    {
     "data": {
      "text/plain": [
       "15"
      ]
     },
     "execution_count": 16,
     "metadata": {},
     "output_type": "execute_result"
    }
   ],
   "source": [
    "# Happy Scenario: Region - No Age - No Date - No Vaccine Type - No Dose\n",
    "\n",
    "state = \"Madhya Pradesh\"\n",
    "district = \"Gwalior\"\n",
    "pincode = 0\n",
    "age = 0\n",
    "inputDate = \"\"\n",
    "vaccineType = \"\"\n",
    "dose = 0\n",
    "\n",
    "len(notifierService.findSlots(state, district, pincode, age, inputDate, vaccineType, dose))\n",
    "# PASS"
   ]
  },
  {
   "cell_type": "code",
   "execution_count": 17,
   "metadata": {},
   "outputs": [
    {
     "data": {
      "text/plain": [
       "0"
      ]
     },
     "execution_count": 17,
     "metadata": {},
     "output_type": "execute_result"
    }
   ],
   "source": [
    "# Happy Scenario: Region - No Age - No Date - No Vaccine Type, Dose = 1\n",
    "\n",
    "state = \"Madhya Pradesh\"\n",
    "district = \"Gwalior\"\n",
    "pincode = 0\n",
    "age = 0\n",
    "inputDate = \"\"\n",
    "vaccineType = \"\"\n",
    "dose = 1\n",
    "\n",
    "len(notifierService.findSlots(state, district, pincode, age, inputDate, vaccineType, dose))\n",
    "# PASS"
   ]
  },
  {
   "cell_type": "code",
   "execution_count": 18,
   "metadata": {},
   "outputs": [
    {
     "data": {
      "text/plain": [
       "1"
      ]
     },
     "execution_count": 18,
     "metadata": {},
     "output_type": "execute_result"
    }
   ],
   "source": [
    "# Happy Scenario: Pin Code \n",
    "\n",
    "state = \"\"\n",
    "district = \"\"\n",
    "pincode = 474006\n",
    "age = 45\n",
    "inputDate = \"2021-05-27\"\n",
    "vaccineType = \"COVISHIELD\"\n",
    "dose = 2\n",
    "\n",
    "len(notifierService.findSlots(state, district, pincode, age, inputDate, vaccineType, dose))\n",
    "# PASS"
   ]
  },
  {
   "cell_type": "code",
   "execution_count": 19,
   "metadata": {},
   "outputs": [
    {
     "data": {
      "text/plain": [
       "1"
      ]
     },
     "execution_count": 19,
     "metadata": {},
     "output_type": "execute_result"
    }
   ],
   "source": [
    "# Happy Scenario: Pin Code - No Age\n",
    "\n",
    "state = \"\"\n",
    "district = \"\"\n",
    "pincode = 474006\n",
    "age = 0\n",
    "inputDate = \"2021-05-27\"\n",
    "vaccineType = \"COVISHIELD\"\n",
    "dose = 2\n",
    "\n",
    "len(notifierService.findSlots(state, district, pincode, age, inputDate, vaccineType, dose))\n",
    "# PASS"
   ]
  },
  {
   "cell_type": "code",
   "execution_count": 20,
   "metadata": {},
   "outputs": [
    {
     "data": {
      "text/plain": [
       "1"
      ]
     },
     "execution_count": 20,
     "metadata": {},
     "output_type": "execute_result"
    }
   ],
   "source": [
    "# Happy Scenario: Pin Code - No Age - No Date\n",
    "\n",
    "state = \"\"\n",
    "district = \"\"\n",
    "pincode = 474006\n",
    "age = 0\n",
    "inputDate = \"\"\n",
    "vaccineType = \"COVISHIELD\"\n",
    "dose = 2\n",
    "\n",
    "len(notifierService.findSlots(state, district, pincode, age, inputDate, vaccineType, dose))\n",
    "# PASS"
   ]
  },
  {
   "cell_type": "code",
   "execution_count": 21,
   "metadata": {},
   "outputs": [
    {
     "data": {
      "text/plain": [
       "1"
      ]
     },
     "execution_count": 21,
     "metadata": {},
     "output_type": "execute_result"
    }
   ],
   "source": [
    "# Happy Scenario: Pin Code - No Age - No Date - No Vaccine Type\n",
    "\n",
    "state = \"\"\n",
    "district = \"\"\n",
    "pincode = 474006\n",
    "age = 0\n",
    "inputDate = \"\"\n",
    "vaccineType = \"\"\n",
    "dose = 2\n",
    "\n",
    "len(notifierService.findSlots(state, district, pincode, age, inputDate, vaccineType, dose))\n",
    "# PASS"
   ]
  },
  {
   "cell_type": "code",
   "execution_count": 22,
   "metadata": {},
   "outputs": [
    {
     "data": {
      "text/plain": [
       "1"
      ]
     },
     "execution_count": 22,
     "metadata": {},
     "output_type": "execute_result"
    }
   ],
   "source": [
    "# Happy Scenario: Pin Code - No Age - No Date - No Vaccine Type - No Dose\n",
    "\n",
    "state = \"\"\n",
    "district = \"\"\n",
    "pincode = 474006\n",
    "age = 0\n",
    "inputDate = \"\"\n",
    "vaccineType = \"\"\n",
    "dose = 0\n",
    "\n",
    "len(notifierService.findSlots(state, district, pincode, age, inputDate, vaccineType, dose))\n",
    "# PASS"
   ]
  },
  {
   "cell_type": "code",
   "execution_count": 23,
   "metadata": {},
   "outputs": [
    {
     "data": {
      "text/plain": [
       "0"
      ]
     },
     "execution_count": 23,
     "metadata": {},
     "output_type": "execute_result"
    }
   ],
   "source": [
    "# Happy Scenario: Pin Code - No Age - No Date - No Vaccine Type, Dose = 1\n",
    "\n",
    "state = \"\"\n",
    "district = \"\"\n",
    "pincode = 474006\n",
    "age = 0\n",
    "inputDate = \"\"\n",
    "vaccineType = \"\"\n",
    "dose = 1\n",
    "\n",
    "len(notifierService.findSlots(state, district, pincode, age, inputDate, vaccineType, dose))\n",
    "# PASS"
   ]
  },
  {
   "cell_type": "code",
   "execution_count": null,
   "metadata": {},
   "outputs": [],
   "source": []
  }
 ],
 "metadata": {
  "kernelspec": {
   "display_name": "Python 3",
   "language": "python",
   "name": "python3"
  },
  "language_info": {
   "codemirror_mode": {
    "name": "ipython",
    "version": 3
   },
   "file_extension": ".py",
   "mimetype": "text/x-python",
   "name": "python",
   "nbconvert_exporter": "python",
   "pygments_lexer": "ipython3",
   "version": "3.9.5"
  }
 },
 "nbformat": 4,
 "nbformat_minor": 4
}
